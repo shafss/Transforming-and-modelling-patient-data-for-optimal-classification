{
 "cells": [
  {
   "cell_type": "markdown",
   "metadata": {},
   "source": [
    "## Imports"
   ]
  },
  {
   "cell_type": "code",
   "execution_count": 1,
   "metadata": {},
   "outputs": [],
   "source": [
    "import pandas as pd\n",
    "import numpy as np\n",
    "%matplotlib inline\n",
    "import matplotlib.pyplot as plt"
   ]
  },
  {
   "cell_type": "markdown",
   "metadata": {},
   "source": [
    "## Read CSV"
   ]
  },
  {
   "cell_type": "code",
   "execution_count": 2,
   "metadata": {},
   "outputs": [],
   "source": [
    "## Missing Values\n",
    "missing_values = [\"n/a\", \"na\", \"--\", \" \", \"Unknown\"]"
   ]
  },
  {
   "cell_type": "code",
   "execution_count": 3,
   "metadata": {},
   "outputs": [],
   "source": [
    "meds = pd.read_csv(\"600092_data.csv\",na_values = missing_values)#, na_values = missing_values"
   ]
  },
  {
   "cell_type": "code",
   "execution_count": 4,
   "metadata": {},
   "outputs": [],
   "source": [
    "meds['Indication'].replace(['Asx'], ['ASx'], inplace = True)"
   ]
  },
  {
   "cell_type": "markdown",
   "metadata": {},
   "source": [
    "## Summary of the numerical attributes"
   ]
  },
  {
   "cell_type": "code",
   "execution_count": 5,
   "metadata": {},
   "outputs": [
    {
     "data": {
      "text/html": [
       "<div>\n",
       "<style scoped>\n",
       "    .dataframe tbody tr th:only-of-type {\n",
       "        vertical-align: middle;\n",
       "    }\n",
       "\n",
       "    .dataframe tbody tr th {\n",
       "        vertical-align: top;\n",
       "    }\n",
       "\n",
       "    .dataframe thead th {\n",
       "        text-align: right;\n",
       "    }\n",
       "</style>\n",
       "<table border=\"1\" class=\"dataframe\">\n",
       "  <thead>\n",
       "    <tr style=\"text-align: right;\">\n",
       "      <th></th>\n",
       "      <th>Random</th>\n",
       "      <th>Id</th>\n",
       "      <th>IPSI</th>\n",
       "      <th>Contra</th>\n",
       "    </tr>\n",
       "  </thead>\n",
       "  <tbody>\n",
       "    <tr>\n",
       "      <th>count</th>\n",
       "      <td>1520.000000</td>\n",
       "      <td>1520.000000</td>\n",
       "      <td>1516.000000</td>\n",
       "      <td>1519.000000</td>\n",
       "    </tr>\n",
       "    <tr>\n",
       "      <th>mean</th>\n",
       "      <td>0.509545</td>\n",
       "      <td>188365.022368</td>\n",
       "      <td>78.872032</td>\n",
       "      <td>56.828176</td>\n",
       "    </tr>\n",
       "    <tr>\n",
       "      <th>std</th>\n",
       "      <td>0.284006</td>\n",
       "      <td>64355.870242</td>\n",
       "      <td>10.162351</td>\n",
       "      <td>29.535671</td>\n",
       "    </tr>\n",
       "    <tr>\n",
       "      <th>min</th>\n",
       "      <td>0.000295</td>\n",
       "      <td>78261.000000</td>\n",
       "      <td>35.000000</td>\n",
       "      <td>10.000000</td>\n",
       "    </tr>\n",
       "    <tr>\n",
       "      <th>25%</th>\n",
       "      <td>0.268531</td>\n",
       "      <td>137130.750000</td>\n",
       "      <td>73.000000</td>\n",
       "      <td>30.000000</td>\n",
       "    </tr>\n",
       "    <tr>\n",
       "      <th>50%</th>\n",
       "      <td>0.517616</td>\n",
       "      <td>191344.500000</td>\n",
       "      <td>77.000000</td>\n",
       "      <td>50.000000</td>\n",
       "    </tr>\n",
       "    <tr>\n",
       "      <th>75%</th>\n",
       "      <td>0.754724</td>\n",
       "      <td>244559.500000</td>\n",
       "      <td>85.000000</td>\n",
       "      <td>85.000000</td>\n",
       "    </tr>\n",
       "    <tr>\n",
       "      <th>max</th>\n",
       "      <td>0.999448</td>\n",
       "      <td>295978.000000</td>\n",
       "      <td>99.000000</td>\n",
       "      <td>100.000000</td>\n",
       "    </tr>\n",
       "  </tbody>\n",
       "</table>\n",
       "</div>"
      ],
      "text/plain": [
       "            Random             Id         IPSI       Contra\n",
       "count  1520.000000    1520.000000  1516.000000  1519.000000\n",
       "mean      0.509545  188365.022368    78.872032    56.828176\n",
       "std       0.284006   64355.870242    10.162351    29.535671\n",
       "min       0.000295   78261.000000    35.000000    10.000000\n",
       "25%       0.268531  137130.750000    73.000000    30.000000\n",
       "50%       0.517616  191344.500000    77.000000    50.000000\n",
       "75%       0.754724  244559.500000    85.000000    85.000000\n",
       "max       0.999448  295978.000000    99.000000   100.000000"
      ]
     },
     "execution_count": 5,
     "metadata": {},
     "output_type": "execute_result"
    }
   ],
   "source": [
    "meds.describe()"
   ]
  },
  {
   "cell_type": "code",
   "execution_count": 6,
   "metadata": {},
   "outputs": [
    {
     "data": {
      "text/html": [
       "<div>\n",
       "<style scoped>\n",
       "    .dataframe tbody tr th:only-of-type {\n",
       "        vertical-align: middle;\n",
       "    }\n",
       "\n",
       "    .dataframe tbody tr th {\n",
       "        vertical-align: top;\n",
       "    }\n",
       "\n",
       "    .dataframe thead th {\n",
       "        text-align: right;\n",
       "    }\n",
       "</style>\n",
       "<table border=\"1\" class=\"dataframe\">\n",
       "  <thead>\n",
       "    <tr style=\"text-align: right;\">\n",
       "      <th></th>\n",
       "      <th>Random</th>\n",
       "      <th>Id</th>\n",
       "      <th>Indication</th>\n",
       "      <th>Diabetes</th>\n",
       "      <th>IHD</th>\n",
       "      <th>Hypertension</th>\n",
       "      <th>Arrhythmia</th>\n",
       "      <th>History</th>\n",
       "      <th>IPSI</th>\n",
       "      <th>Contra</th>\n",
       "      <th>label</th>\n",
       "    </tr>\n",
       "  </thead>\n",
       "  <tbody>\n",
       "    <tr>\n",
       "      <th>0</th>\n",
       "      <td>0.602437</td>\n",
       "      <td>218242</td>\n",
       "      <td>A-F</td>\n",
       "      <td>no</td>\n",
       "      <td>no</td>\n",
       "      <td>yes</td>\n",
       "      <td>no</td>\n",
       "      <td>no</td>\n",
       "      <td>78.0</td>\n",
       "      <td>20.0</td>\n",
       "      <td>NoRisk</td>\n",
       "    </tr>\n",
       "    <tr>\n",
       "      <th>1</th>\n",
       "      <td>0.602437</td>\n",
       "      <td>159284</td>\n",
       "      <td>TIA</td>\n",
       "      <td>no</td>\n",
       "      <td>no</td>\n",
       "      <td>no</td>\n",
       "      <td>no</td>\n",
       "      <td>no</td>\n",
       "      <td>70.0</td>\n",
       "      <td>60.0</td>\n",
       "      <td>NoRisk</td>\n",
       "    </tr>\n",
       "    <tr>\n",
       "      <th>2</th>\n",
       "      <td>0.602437</td>\n",
       "      <td>106066</td>\n",
       "      <td>A-F</td>\n",
       "      <td>no</td>\n",
       "      <td>yes</td>\n",
       "      <td>yes</td>\n",
       "      <td>no</td>\n",
       "      <td>no</td>\n",
       "      <td>95.0</td>\n",
       "      <td>40.0</td>\n",
       "      <td>Risk</td>\n",
       "    </tr>\n",
       "    <tr>\n",
       "      <th>3</th>\n",
       "      <td>0.128157</td>\n",
       "      <td>229592</td>\n",
       "      <td>TIA</td>\n",
       "      <td>no</td>\n",
       "      <td>no</td>\n",
       "      <td>yes</td>\n",
       "      <td>no</td>\n",
       "      <td>no</td>\n",
       "      <td>90.0</td>\n",
       "      <td>85.0</td>\n",
       "      <td>Risk</td>\n",
       "    </tr>\n",
       "    <tr>\n",
       "      <th>4</th>\n",
       "      <td>0.676862</td>\n",
       "      <td>245829</td>\n",
       "      <td>CVA</td>\n",
       "      <td>no</td>\n",
       "      <td>no</td>\n",
       "      <td>no</td>\n",
       "      <td>no</td>\n",
       "      <td>no</td>\n",
       "      <td>70.0</td>\n",
       "      <td>20.0</td>\n",
       "      <td>NoRisk</td>\n",
       "    </tr>\n",
       "  </tbody>\n",
       "</table>\n",
       "</div>"
      ],
      "text/plain": [
       "     Random      Id Indication Diabetes  IHD Hypertension Arrhythmia History  \\\n",
       "0  0.602437  218242        A-F       no   no          yes         no      no   \n",
       "1  0.602437  159284        TIA       no   no           no         no      no   \n",
       "2  0.602437  106066        A-F       no  yes          yes         no      no   \n",
       "3  0.128157  229592        TIA       no   no          yes         no      no   \n",
       "4  0.676862  245829        CVA       no   no           no         no      no   \n",
       "\n",
       "   IPSI  Contra   label  \n",
       "0  78.0    20.0  NoRisk  \n",
       "1  70.0    60.0  NoRisk  \n",
       "2  95.0    40.0    Risk  \n",
       "3  90.0    85.0    Risk  \n",
       "4  70.0    20.0  NoRisk  "
      ]
     },
     "execution_count": 6,
     "metadata": {},
     "output_type": "execute_result"
    }
   ],
   "source": [
    "meds.head()"
   ]
  },
  {
   "cell_type": "markdown",
   "metadata": {},
   "source": [
    "## Dataset has 11 columns"
   ]
  },
  {
   "cell_type": "code",
   "execution_count": 7,
   "metadata": {},
   "outputs": [
    {
     "name": "stdout",
     "output_type": "stream",
     "text": [
      "11\n"
     ]
    },
    {
     "data": {
      "text/plain": [
       "Index(['Random', 'Id', 'Indication', 'Diabetes', 'IHD', 'Hypertension',\n",
       "       'Arrhythmia', 'History', 'IPSI', 'Contra', 'label'],\n",
       "      dtype='object')"
      ]
     },
     "execution_count": 7,
     "metadata": {},
     "output_type": "execute_result"
    }
   ],
   "source": [
    "print(len(meds.columns))\n",
    "meds.columns"
   ]
  },
  {
   "cell_type": "code",
   "execution_count": 8,
   "metadata": {},
   "outputs": [
    {
     "data": {
      "text/plain": [
       "Random          float64\n",
       "Id                int64\n",
       "Indication       object\n",
       "Diabetes         object\n",
       "IHD              object\n",
       "Hypertension     object\n",
       "Arrhythmia       object\n",
       "History          object\n",
       "IPSI            float64\n",
       "Contra          float64\n",
       "label            object\n",
       "dtype: object"
      ]
     },
     "execution_count": 8,
     "metadata": {},
     "output_type": "execute_result"
    }
   ],
   "source": [
    "meds.dtypes"
   ]
  },
  {
   "cell_type": "markdown",
   "metadata": {},
   "source": [
    "#### Random, ID classes have  no value for predicting the data so we can drop them"
   ]
  },
  {
   "cell_type": "code",
   "execution_count": 9,
   "metadata": {},
   "outputs": [],
   "source": [
    "med = meds.drop(\"Random\", axis=1)"
   ]
  },
  {
   "cell_type": "code",
   "execution_count": 10,
   "metadata": {},
   "outputs": [],
   "source": [
    "med = med.drop(\"Id\", axis=1)"
   ]
  },
  {
   "cell_type": "markdown",
   "metadata": {},
   "source": [
    "#### Check Unique Values"
   ]
  },
  {
   "cell_type": "code",
   "execution_count": 11,
   "metadata": {},
   "outputs": [
    {
     "name": "stdout",
     "output_type": "stream",
     "text": [
      "['yes' 'no' nan]\n",
      "['no' 'yes' nan]\n",
      "['no' 'yes']\n",
      "['no' 'yes']\n",
      "['no' 'yes' nan]\n",
      "['A-F' 'TIA' 'CVA' 'ASx' nan]\n",
      "['NoRisk' 'Risk' nan]\n"
     ]
    }
   ],
   "source": [
    "print(med['Hypertension'].unique())\n",
    "print(med['Diabetes'].unique())\n",
    "print(med['IHD'].unique())\n",
    "print(med['Arrhythmia'].unique())\n",
    "print(med['History'].unique())\n",
    "print(med['Indication'].unique())\n",
    "print(med['label'].unique())"
   ]
  },
  {
   "cell_type": "markdown",
   "metadata": {},
   "source": [
    "#### Null values"
   ]
  },
  {
   "cell_type": "code",
   "execution_count": 12,
   "metadata": {},
   "outputs": [
    {
     "data": {
      "text/plain": [
       "Indication      3\n",
       "Diabetes        2\n",
       "IHD             0\n",
       "Hypertension    3\n",
       "Arrhythmia      0\n",
       "History         2\n",
       "IPSI            4\n",
       "Contra          1\n",
       "label           5\n",
       "dtype: int64"
      ]
     },
     "execution_count": 12,
     "metadata": {},
     "output_type": "execute_result"
    }
   ],
   "source": [
    "med.isnull().sum()"
   ]
  },
  {
   "cell_type": "markdown",
   "metadata": {},
   "source": [
    "#### We can replace the median value for the numarical  null values, however the desicion to drop them was made"
   ]
  },
  {
   "cell_type": "code",
   "execution_count": 13,
   "metadata": {},
   "outputs": [],
   "source": [
    "# median = med[\"IPSI\"].median()\n",
    "# med[\"IPSI\"] = med[\"IPSI\"].fillna(median)\n",
    "\n",
    "# median = med[\"Contra\"].median()\n",
    "# med[\"Contra\"] = med[\"Contra\"].fillna(median)\n",
    "# med.isnull().sum()"
   ]
  },
  {
   "cell_type": "markdown",
   "metadata": {},
   "source": [
    "#### Removing all null values after variable 'na_values' is updated"
   ]
  },
  {
   "cell_type": "code",
   "execution_count": 14,
   "metadata": {},
   "outputs": [
    {
     "data": {
      "text/plain": [
       "Indication      0\n",
       "Diabetes        0\n",
       "IHD             0\n",
       "Hypertension    0\n",
       "Arrhythmia      0\n",
       "History         0\n",
       "IPSI            0\n",
       "Contra          0\n",
       "label           0\n",
       "dtype: int64"
      ]
     },
     "execution_count": 14,
     "metadata": {},
     "output_type": "execute_result"
    }
   ],
   "source": [
    "med = med.dropna()\n",
    "med.isnull().sum()"
   ]
  },
  {
   "cell_type": "code",
   "execution_count": 15,
   "metadata": {},
   "outputs": [
    {
     "name": "stdout",
     "output_type": "stream",
     "text": [
      "['yes' 'no']\n",
      "['no' 'yes']\n",
      "['no' 'yes']\n",
      "['no' 'yes']\n",
      "['no' 'yes']\n",
      "['A-F' 'TIA' 'CVA' 'ASx']\n",
      "['NoRisk' 'Risk']\n"
     ]
    }
   ],
   "source": [
    "print(med['Hypertension'].unique())\n",
    "print(med['Diabetes'].unique())\n",
    "print(med['IHD'].unique())\n",
    "print(med['Arrhythmia'].unique())\n",
    "print(med['History'].unique())\n",
    "print(med['Indication'].unique())\n",
    "print(med['label'].unique())"
   ]
  },
  {
   "cell_type": "markdown",
   "metadata": {},
   "source": [
    "#### Two numerical attributes"
   ]
  },
  {
   "cell_type": "code",
   "execution_count": 16,
   "metadata": {},
   "outputs": [
    {
     "data": {
      "text/html": [
       "<div>\n",
       "<style scoped>\n",
       "    .dataframe tbody tr th:only-of-type {\n",
       "        vertical-align: middle;\n",
       "    }\n",
       "\n",
       "    .dataframe tbody tr th {\n",
       "        vertical-align: top;\n",
       "    }\n",
       "\n",
       "    .dataframe thead th {\n",
       "        text-align: right;\n",
       "    }\n",
       "</style>\n",
       "<table border=\"1\" class=\"dataframe\">\n",
       "  <thead>\n",
       "    <tr style=\"text-align: right;\">\n",
       "      <th></th>\n",
       "      <th>IPSI</th>\n",
       "      <th>Contra</th>\n",
       "    </tr>\n",
       "  </thead>\n",
       "  <tbody>\n",
       "    <tr>\n",
       "      <th>count</th>\n",
       "      <td>1500.000000</td>\n",
       "      <td>1500.000000</td>\n",
       "    </tr>\n",
       "    <tr>\n",
       "      <th>mean</th>\n",
       "      <td>78.828000</td>\n",
       "      <td>56.668000</td>\n",
       "    </tr>\n",
       "    <tr>\n",
       "      <th>std</th>\n",
       "      <td>10.159555</td>\n",
       "      <td>29.524977</td>\n",
       "    </tr>\n",
       "    <tr>\n",
       "      <th>min</th>\n",
       "      <td>35.000000</td>\n",
       "      <td>10.000000</td>\n",
       "    </tr>\n",
       "    <tr>\n",
       "      <th>25%</th>\n",
       "      <td>73.000000</td>\n",
       "      <td>30.000000</td>\n",
       "    </tr>\n",
       "    <tr>\n",
       "      <th>50%</th>\n",
       "      <td>77.000000</td>\n",
       "      <td>50.000000</td>\n",
       "    </tr>\n",
       "    <tr>\n",
       "      <th>75%</th>\n",
       "      <td>85.000000</td>\n",
       "      <td>85.000000</td>\n",
       "    </tr>\n",
       "    <tr>\n",
       "      <th>max</th>\n",
       "      <td>99.000000</td>\n",
       "      <td>100.000000</td>\n",
       "    </tr>\n",
       "  </tbody>\n",
       "</table>\n",
       "</div>"
      ],
      "text/plain": [
       "              IPSI       Contra\n",
       "count  1500.000000  1500.000000\n",
       "mean     78.828000    56.668000\n",
       "std      10.159555    29.524977\n",
       "min      35.000000    10.000000\n",
       "25%      73.000000    30.000000\n",
       "50%      77.000000    50.000000\n",
       "75%      85.000000    85.000000\n",
       "max      99.000000   100.000000"
      ]
     },
     "execution_count": 16,
     "metadata": {},
     "output_type": "execute_result"
    }
   ],
   "source": [
    "\n",
    "med.describe()"
   ]
  },
  {
   "cell_type": "code",
   "execution_count": 17,
   "metadata": {},
   "outputs": [
    {
     "data": {
      "image/png": "[encoded data removed]",
      "text/plain": [
       "<Figure size 720x360 with 2 Axes>"
      ]
     },
     "metadata": {
      "needs_background": "light"
     },
     "output_type": "display_data"
    }
   ],
   "source": [
    "med.hist(bins=50, figsize=(10, 5))\n",
    "plt.show()"
   ]
  },
  {
   "cell_type": "markdown",
   "metadata": {},
   "source": [
    "###### We Can clearly see these numerical values pre stratified"
   ]
  },
  {
   "cell_type": "markdown",
   "metadata": {},
   "source": [
    "### Check the categorical values\n",
    "#### 7 Categorical Valiues\n",
    "1. Indication\n",
    "2. Diabetes\n",
    "3. IHD\n",
    "4. Hypertension \n",
    "5. Arrhythmia\n",
    "6. History \n",
    "7. Contra\n"
   ]
  },
  {
   "cell_type": "code",
   "execution_count": 18,
   "metadata": {},
   "outputs": [
    {
     "data": {
      "text/plain": [
       "A-F    489\n",
       "CVA    407\n",
       "TIA    388\n",
       "ASx    216\n",
       "Name: Indication, dtype: int64"
      ]
     },
     "execution_count": 18,
     "metadata": {},
     "output_type": "execute_result"
    }
   ],
   "source": [
    "med['Indication'].value_counts()"
   ]
  },
  {
   "cell_type": "code",
   "execution_count": 19,
   "metadata": {},
   "outputs": [
    {
     "data": {
      "text/plain": [
       "no     1425\n",
       "yes      75\n",
       "Name: Diabetes, dtype: int64"
      ]
     },
     "execution_count": 19,
     "metadata": {},
     "output_type": "execute_result"
    }
   ],
   "source": [
    "med['Diabetes'].value_counts()"
   ]
  },
  {
   "cell_type": "code",
   "execution_count": 20,
   "metadata": {},
   "outputs": [
    {
     "data": {
      "text/plain": [
       "no     789\n",
       "yes    711\n",
       "Name: IHD, dtype: int64"
      ]
     },
     "execution_count": 20,
     "metadata": {},
     "output_type": "execute_result"
    }
   ],
   "source": [
    "med['IHD'].value_counts()"
   ]
  },
  {
   "cell_type": "code",
   "execution_count": 21,
   "metadata": {},
   "outputs": [
    {
     "data": {
      "text/plain": [
       "no     777\n",
       "yes    723\n",
       "Name: Hypertension, dtype: int64"
      ]
     },
     "execution_count": 21,
     "metadata": {},
     "output_type": "execute_result"
    }
   ],
   "source": [
    "med['Hypertension'].value_counts()"
   ]
  },
  {
   "cell_type": "code",
   "execution_count": 22,
   "metadata": {},
   "outputs": [
    {
     "data": {
      "text/plain": [
       "no     1177\n",
       "yes     323\n",
       "Name: Arrhythmia, dtype: int64"
      ]
     },
     "execution_count": 22,
     "metadata": {},
     "output_type": "execute_result"
    }
   ],
   "source": [
    "med['Arrhythmia'].value_counts()"
   ]
  },
  {
   "cell_type": "code",
   "execution_count": 23,
   "metadata": {},
   "outputs": [
    {
     "data": {
      "text/plain": [
       "no     1478\n",
       "yes      22\n",
       "Name: History, dtype: int64"
      ]
     },
     "execution_count": 23,
     "metadata": {},
     "output_type": "execute_result"
    }
   ],
   "source": [
    "med['History'].value_counts()\n",
    "# med.shape"
   ]
  },
  {
   "cell_type": "code",
   "execution_count": 24,
   "metadata": {},
   "outputs": [
    {
     "data": {
      "text/plain": [
       "NoRisk    1000\n",
       "Risk       500\n",
       "Name: label, dtype: int64"
      ]
     },
     "execution_count": 24,
     "metadata": {},
     "output_type": "execute_result"
    }
   ],
   "source": [
    "med['label'].value_counts()\n",
    "# med.shape"
   ]
  },
  {
   "cell_type": "markdown",
   "metadata": {},
   "source": [
    "#### This Dataset has highly skewed data so it may bias to predicting the results. but at the first phase we will still  use all the categorical values for the predictions"
   ]
  },
  {
   "cell_type": "markdown",
   "metadata": {},
   "source": [
    "### Identifying Outliers\n",
    "When considering the outliers we can only the numericla attributes can have outliers"
   ]
  },
  {
   "cell_type": "code",
   "execution_count": 25,
   "metadata": {},
   "outputs": [
    {
     "data": {
      "image/png": "[encoded data removed]",
      "text/plain": [
       "<Figure size 432x288 with 1 Axes>"
      ]
     },
     "metadata": {
      "needs_background": "light"
     },
     "output_type": "display_data"
    }
   ],
   "source": [
    "plt.boxplot(med[\"Contra\"], vert = False)\n",
    "plt.show()"
   ]
  },
  {
   "cell_type": "code",
   "execution_count": 26,
   "metadata": {},
   "outputs": [
    {
     "data": {
      "image/png": "[encoded data removed]",
      "text/plain": [
       "<Figure size 432x288 with 1 Axes>"
      ]
     },
     "metadata": {
      "needs_background": "light"
     },
     "output_type": "display_data"
    }
   ],
   "source": [
    "plt.boxplot(med[\"IPSI\"], vert = False)\n",
    "plt.show()"
   ]
  },
  {
   "cell_type": "markdown",
   "metadata": {},
   "source": [
    "#### Only IPSI  has outliers"
   ]
  },
  {
   "cell_type": "markdown",
   "metadata": {},
   "source": [
    "###  Removing Outliers"
   ]
  },
  {
   "cell_type": "code",
   "execution_count": 27,
   "metadata": {},
   "outputs": [
    {
     "name": "stdout",
     "output_type": "stream",
     "text": [
      "65.0 95.0\n"
     ]
    }
   ],
   "source": [
    "p1, p2 = np.percentile(med['IPSI'], [5, 90])\n",
    "print(p1, p2)"
   ]
  },
  {
   "cell_type": "markdown",
   "metadata": {},
   "source": [
    "#### The 5%th  percentile is 65 so we will use this and dropa any values below the 5th percentile."
   ]
  },
  {
   "cell_type": "code",
   "execution_count": 28,
   "metadata": {},
   "outputs": [
    {
     "data": {
      "text/plain": [
       "count    1500.000000\n",
       "mean       78.828000\n",
       "std        10.159555\n",
       "min        35.000000\n",
       "25%        73.000000\n",
       "50%        77.000000\n",
       "75%        85.000000\n",
       "max        99.000000\n",
       "Name: IPSI, dtype: float64"
      ]
     },
     "execution_count": 28,
     "metadata": {},
     "output_type": "execute_result"
    }
   ],
   "source": [
    "med['IPSI'].describe()"
   ]
  },
  {
   "cell_type": "code",
   "execution_count": 29,
   "metadata": {},
   "outputs": [],
   "source": [
    "med = med[(med.IPSI>=65 )]"
   ]
  },
  {
   "cell_type": "code",
   "execution_count": 30,
   "metadata": {},
   "outputs": [
    {
     "data": {
      "image/png": "[encoded data removed]",
      "text/plain": [
       "<Figure size 432x288 with 1 Axes>"
      ]
     },
     "metadata": {
      "needs_background": "light"
     },
     "output_type": "display_data"
    }
   ],
   "source": [
    "plt.boxplot(med[\"IPSI\"], vert = False)\n",
    "plt.show()"
   ]
  },
  {
   "cell_type": "markdown",
   "metadata": {},
   "source": [
    "#### Categorical Datarame"
   ]
  },
  {
   "cell_type": "code",
   "execution_count": 31,
   "metadata": {},
   "outputs": [
    {
     "data": {
      "text/html": [
       "<div>\n",
       "<style scoped>\n",
       "    .dataframe tbody tr th:only-of-type {\n",
       "        vertical-align: middle;\n",
       "    }\n",
       "\n",
       "    .dataframe tbody tr th {\n",
       "        vertical-align: top;\n",
       "    }\n",
       "\n",
       "    .dataframe thead th {\n",
       "        text-align: right;\n",
       "    }\n",
       "</style>\n",
       "<table border=\"1\" class=\"dataframe\">\n",
       "  <thead>\n",
       "    <tr style=\"text-align: right;\">\n",
       "      <th></th>\n",
       "      <th>Indication</th>\n",
       "      <th>Diabetes</th>\n",
       "      <th>IHD</th>\n",
       "      <th>Hypertension</th>\n",
       "      <th>Arrhythmia</th>\n",
       "      <th>History</th>\n",
       "    </tr>\n",
       "  </thead>\n",
       "  <tbody>\n",
       "    <tr>\n",
       "      <th>0</th>\n",
       "      <td>A-F</td>\n",
       "      <td>no</td>\n",
       "      <td>no</td>\n",
       "      <td>yes</td>\n",
       "      <td>no</td>\n",
       "      <td>no</td>\n",
       "    </tr>\n",
       "    <tr>\n",
       "      <th>1</th>\n",
       "      <td>TIA</td>\n",
       "      <td>no</td>\n",
       "      <td>no</td>\n",
       "      <td>no</td>\n",
       "      <td>no</td>\n",
       "      <td>no</td>\n",
       "    </tr>\n",
       "    <tr>\n",
       "      <th>2</th>\n",
       "      <td>A-F</td>\n",
       "      <td>no</td>\n",
       "      <td>yes</td>\n",
       "      <td>yes</td>\n",
       "      <td>no</td>\n",
       "      <td>no</td>\n",
       "    </tr>\n",
       "    <tr>\n",
       "      <th>3</th>\n",
       "      <td>TIA</td>\n",
       "      <td>no</td>\n",
       "      <td>no</td>\n",
       "      <td>yes</td>\n",
       "      <td>no</td>\n",
       "      <td>no</td>\n",
       "    </tr>\n",
       "    <tr>\n",
       "      <th>4</th>\n",
       "      <td>CVA</td>\n",
       "      <td>no</td>\n",
       "      <td>no</td>\n",
       "      <td>no</td>\n",
       "      <td>no</td>\n",
       "      <td>no</td>\n",
       "    </tr>\n",
       "  </tbody>\n",
       "</table>\n",
       "</div>"
      ],
      "text/plain": [
       "  Indication Diabetes  IHD Hypertension Arrhythmia History\n",
       "0        A-F       no   no          yes         no      no\n",
       "1        TIA       no   no           no         no      no\n",
       "2        A-F       no  yes          yes         no      no\n",
       "3        TIA       no   no          yes         no      no\n",
       "4        CVA       no   no           no         no      no"
      ]
     },
     "execution_count": 31,
     "metadata": {},
     "output_type": "execute_result"
    }
   ],
   "source": [
    "med_cat = med.drop(\"IPSI\", axis=1)\n",
    "med_cat = med_cat.drop(\"Contra\", axis=1)\n",
    "med_cat = med_cat.drop(\"label\", axis=1)\n",
    "med_cat.head()"
   ]
  },
  {
   "cell_type": "code",
   "execution_count": 32,
   "metadata": {},
   "outputs": [
    {
     "data": {
      "text/plain": [
       "(1431, 6)"
      ]
     },
     "execution_count": 32,
     "metadata": {},
     "output_type": "execute_result"
    }
   ],
   "source": [
    "med_cat.shape"
   ]
  },
  {
   "cell_type": "markdown",
   "metadata": {},
   "source": [
    "#### Med Labels"
   ]
  },
  {
   "cell_type": "code",
   "execution_count": 33,
   "metadata": {},
   "outputs": [
    {
     "data": {
      "text/plain": [
       "0    NoRisk\n",
       "1    NoRisk\n",
       "2      Risk\n",
       "3      Risk\n",
       "4    NoRisk\n",
       "Name: label, dtype: object"
      ]
     },
     "execution_count": 33,
     "metadata": {},
     "output_type": "execute_result"
    }
   ],
   "source": [
    "labels = med[\"label\"].copy()\n",
    "labels.head()"
   ]
  },
  {
   "cell_type": "code",
   "execution_count": 34,
   "metadata": {},
   "outputs": [
    {
     "data": {
      "text/plain": [
       "(1431,)"
      ]
     },
     "execution_count": 34,
     "metadata": {},
     "output_type": "execute_result"
    }
   ],
   "source": [
    "labels.shape"
   ]
  },
  {
   "cell_type": "markdown",
   "metadata": {},
   "source": [
    "#### Numerical Data Frame"
   ]
  },
  {
   "cell_type": "code",
   "execution_count": 35,
   "metadata": {},
   "outputs": [
    {
     "data": {
      "text/html": [
       "<div>\n",
       "<style scoped>\n",
       "    .dataframe tbody tr th:only-of-type {\n",
       "        vertical-align: middle;\n",
       "    }\n",
       "\n",
       "    .dataframe tbody tr th {\n",
       "        vertical-align: top;\n",
       "    }\n",
       "\n",
       "    .dataframe thead th {\n",
       "        text-align: right;\n",
       "    }\n",
       "</style>\n",
       "<table border=\"1\" class=\"dataframe\">\n",
       "  <thead>\n",
       "    <tr style=\"text-align: right;\">\n",
       "      <th></th>\n",
       "      <th>IPSI</th>\n",
       "      <th>Contra</th>\n",
       "    </tr>\n",
       "  </thead>\n",
       "  <tbody>\n",
       "    <tr>\n",
       "      <th>0</th>\n",
       "      <td>78.0</td>\n",
       "      <td>20.0</td>\n",
       "    </tr>\n",
       "    <tr>\n",
       "      <th>1</th>\n",
       "      <td>70.0</td>\n",
       "      <td>60.0</td>\n",
       "    </tr>\n",
       "    <tr>\n",
       "      <th>2</th>\n",
       "      <td>95.0</td>\n",
       "      <td>40.0</td>\n",
       "    </tr>\n",
       "    <tr>\n",
       "      <th>3</th>\n",
       "      <td>90.0</td>\n",
       "      <td>85.0</td>\n",
       "    </tr>\n",
       "    <tr>\n",
       "      <th>4</th>\n",
       "      <td>70.0</td>\n",
       "      <td>20.0</td>\n",
       "    </tr>\n",
       "  </tbody>\n",
       "</table>\n",
       "</div>"
      ],
      "text/plain": [
       "   IPSI  Contra\n",
       "0  78.0    20.0\n",
       "1  70.0    60.0\n",
       "2  95.0    40.0\n",
       "3  90.0    85.0\n",
       "4  70.0    20.0"
      ]
     },
     "execution_count": 35,
     "metadata": {},
     "output_type": "execute_result"
    }
   ],
   "source": [
    "med_num = med.filter(['IPSI','Contra'], axis=1)\n",
    "med_num.head()"
   ]
  },
  {
   "cell_type": "code",
   "execution_count": 36,
   "metadata": {},
   "outputs": [
    {
     "data": {
      "text/plain": [
       "(1431, 2)"
      ]
     },
     "execution_count": 36,
     "metadata": {},
     "output_type": "execute_result"
    }
   ],
   "source": [
    "med_num.shape"
   ]
  },
  {
   "cell_type": "code",
   "execution_count": 37,
   "metadata": {},
   "outputs": [
    {
     "name": "stdout",
     "output_type": "stream",
     "text": [
      "(1431, 2)\n"
     ]
    },
    {
     "data": {
      "text/plain": [
       "(1431, 6)"
      ]
     },
     "execution_count": 37,
     "metadata": {},
     "output_type": "execute_result"
    }
   ],
   "source": [
    "print(med_num.shape)\n",
    "med_cat.shape"
   ]
  },
  {
   "cell_type": "code",
   "execution_count": 38,
   "metadata": {},
   "outputs": [],
   "source": [
    "data = pd.concat([med_cat, med_num, labels], axis=1)"
   ]
  },
  {
   "cell_type": "markdown",
   "metadata": {},
   "source": [
    "## Split Train and Test set\n",
    "\n",
    "#### The dataset has 1431 valid records so lets take 0.2 as the test set\n",
    "\n",
    "#### so train set will have 1145 records, test set has 286 records"
   ]
  },
  {
   "cell_type": "code",
   "execution_count": 39,
   "metadata": {},
   "outputs": [],
   "source": [
    "# randomize the set before split\n",
    "\n",
    "rand = np.random.permutation(1431)\n",
    "med_cat = med_cat.iloc[rand]\n",
    "med_num = med_num.iloc[rand]\n",
    "labels = labels.iloc[rand]"
   ]
  },
  {
   "cell_type": "code",
   "execution_count": 40,
   "metadata": {},
   "outputs": [
    {
     "name": "stdout",
     "output_type": "stream",
     "text": [
      "(1431, 6)\n",
      "(1431, 2)\n",
      "(1431,)\n"
     ]
    }
   ],
   "source": [
    "print(med_cat.shape)\n",
    "print(med_num.shape)\n",
    "print(labels.shape)"
   ]
  },
  {
   "cell_type": "code",
   "execution_count": 41,
   "metadata": {},
   "outputs": [],
   "source": [
    "#numerical set\n",
    "med_num, med_num_test = med_num[:1145], med_num[1145:]\n",
    "#catagorical set\n",
    "med_cat, med_cat_test = med_cat[:1145], med_cat[1145:]\n",
    "#labels\n",
    "labels, labels_test = labels[:1145], labels[1145:]"
   ]
  },
  {
   "cell_type": "markdown",
   "metadata": {},
   "source": [
    "## Looking For Correlations\n",
    "This dataset is not too large so it is relatively easy to calculate the standard relation coefficient also known as Pearson's r coefficient"
   ]
  },
  {
   "cell_type": "code",
   "execution_count": 42,
   "metadata": {},
   "outputs": [
    {
     "data": {
      "text/html": [
       "<div>\n",
       "<style scoped>\n",
       "    .dataframe tbody tr th:only-of-type {\n",
       "        vertical-align: middle;\n",
       "    }\n",
       "\n",
       "    .dataframe tbody tr th {\n",
       "        vertical-align: top;\n",
       "    }\n",
       "\n",
       "    .dataframe thead th {\n",
       "        text-align: right;\n",
       "    }\n",
       "</style>\n",
       "<table border=\"1\" class=\"dataframe\">\n",
       "  <thead>\n",
       "    <tr style=\"text-align: right;\">\n",
       "      <th></th>\n",
       "      <th>IPSI</th>\n",
       "      <th>Contra</th>\n",
       "    </tr>\n",
       "  </thead>\n",
       "  <tbody>\n",
       "    <tr>\n",
       "      <th>IPSI</th>\n",
       "      <td>1.00000</td>\n",
       "      <td>0.36916</td>\n",
       "    </tr>\n",
       "    <tr>\n",
       "      <th>Contra</th>\n",
       "      <td>0.36916</td>\n",
       "      <td>1.00000</td>\n",
       "    </tr>\n",
       "  </tbody>\n",
       "</table>\n",
       "</div>"
      ],
      "text/plain": [
       "           IPSI   Contra\n",
       "IPSI    1.00000  0.36916\n",
       "Contra  0.36916  1.00000"
      ]
     },
     "execution_count": 42,
     "metadata": {},
     "output_type": "execute_result"
    }
   ],
   "source": [
    "corr_matrix = med_num.corr()\n",
    "corr_matrix"
   ]
  },
  {
   "cell_type": "code",
   "execution_count": 43,
   "metadata": {},
   "outputs": [
    {
     "data": {
      "text/plain": [
       "[]"
      ]
     },
     "execution_count": 43,
     "metadata": {},
     "output_type": "execute_result"
    },
    {
     "data": {
      "image/png": "[encoded data removed]",
      "text/plain": [
       "<Figure size 432x288 with 4 Axes>"
      ]
     },
     "metadata": {
      "needs_background": "light"
     },
     "output_type": "display_data"
    }
   ],
   "source": [
    "from pandas.plotting import scatter_matrix\n",
    "scatter_matrix(med_num)\n",
    "plt.plot()"
   ]
  },
  {
   "cell_type": "markdown",
   "metadata": {},
   "source": [
    "##### No Correlations can be found in numerical values so we can use both numerical values, if there was a correlation, we would really only need to use one"
   ]
  },
  {
   "cell_type": "markdown",
   "metadata": {},
   "source": [
    "## 1Hot encoder - Categorical feature encode"
   ]
  },
  {
   "cell_type": "code",
   "execution_count": 44,
   "metadata": {},
   "outputs": [],
   "source": [
    "from sklearn.preprocessing import LabelBinarizer\n",
    "encoder = LabelBinarizer()"
   ]
  },
  {
   "cell_type": "code",
   "execution_count": 45,
   "metadata": {},
   "outputs": [],
   "source": [
    "Indication_df = pd.DataFrame(encoder.fit_transform(med_cat[\"Indication\"]), columns=encoder.classes_)\n",
    "Diabetes_df = pd.DataFrame(encoder.fit_transform(med_cat[\"Diabetes\"]), columns=[\"Diabetes\"])\n",
    "IHD_df = pd.DataFrame(encoder.fit_transform(med_cat[\"IHD\"]), columns=[\"IHD\"])\n",
    "Hypertension_df = pd.DataFrame(encoder.fit_transform(med_cat[\"Hypertension\"]), columns=[\"Hypertension\"])\n",
    "Arrhythmia_df = pd.DataFrame(encoder.fit_transform(med_cat[\"Arrhythmia\"]), columns=[\"Arrhythmia\"])\n",
    "History_df = pd.DataFrame(encoder.fit_transform(med_cat[\"History\"]), columns=[\"History\"])"
   ]
  },
  {
   "cell_type": "markdown",
   "metadata": {},
   "source": [
    "## Training and Validation"
   ]
  },
  {
   "cell_type": "code",
   "execution_count": 46,
   "metadata": {},
   "outputs": [],
   "source": [
    "from sklearn.model_selection import cross_val_score\n",
    "from sklearn.linear_model import SGDClassifier\n",
    "from sklearn.ensemble import RandomForestClassifier\n",
    "from sklearn.tree import DecisionTreeClassifier\n",
    "from sklearn.svm import SVC\n",
    "from sklearn.naive_bayes import GaussianNB\n",
    "\n",
    "from sklearn.model_selection import cross_val_predict\n",
    "from sklearn.metrics import confusion_matrix\n",
    "from sklearn.metrics import precision_score, recall_score\n",
    "from sklearn.metrics import f1_score\n",
    "from sklearn.metrics import accuracy_score\n",
    "\n",
    "def scores(clf, X, Y):\n",
    "    clf.fit(X, Y)\n",
    "    acc = np.average(cross_val_score(clf, X, Y, scoring='accuracy', cv=5))\n",
    "    print(\"Accuracy  :  {:.2f} %\".format(acc*100))\n",
    "    pred = cross_val_predict(clf, X, Y, cv=3)\n",
    "    pr = precision_score(Y, pred, average='macro')\n",
    "    re = recall_score(Y,pred , average='macro')\n",
    "    f1_s = f1_score(Y, pred, average='macro')\n",
    "    print(\"Precision :  {:.2f} \".format(pr))\n",
    "    print(\"Recall    :  {:.2f} \".format(re))\n",
    "    print(\"F1_Score  :  {:.2f} \".format(f1_s))\n",
    "    conf_mx = confusion_matrix(Y, pred)\n",
    "    print(\"Feature Classes: {}\".format(list(X.columns)))\n",
    "    print(\"Label Classes  : {}\".format(clf.classes_))\n",
    "    print(\"Confusion Matrix  :  \\n{} \".format(conf_mx))\n",
    "    plt.figure(figsize=(1, 1))\n",
    "    plt.matshow(conf_mx, fignum=1, cmap=plt.cm.gray)\n",
    "    plt.show()\n",
    "    return acc*100, pr, re, f1_s"
   ]
  },
  {
   "cell_type": "code",
   "execution_count": 47,
   "metadata": {},
   "outputs": [],
   "source": [
    "res = med_num.copy()\n",
    "def run_classifiers(X, Y):\n",
    "    acc_list =[]\n",
    "    pr_list = []\n",
    "    re_list = []\n",
    "    f1_s_list = []\n",
    "    \n",
    "    #SGD Classifier\n",
    "    print(\"................................SGD Classifier.................................\")\n",
    "    sgd_clf = SGDClassifier(random_state=42)\n",
    "    acc, pr, re, f1_s  = scores(sgd_clf, X, Y)\n",
    "    acc_list.append(acc)\n",
    "    pr_list.append(pr)\n",
    "    re_list.append(re)\n",
    "    f1_s_list.append(f1_s)\n",
    "    print(\"\\n\")\n",
    "\n",
    "    #Random Forest Classifier\n",
    "    print(\"...........................Random Forest Classifier............................\")\n",
    "    dcn_clf = RandomForestClassifier(n_estimators=2)\n",
    "    acc, pr, re, f1_s  = scores(dcn_clf, X, Y)\n",
    "    acc_list.append(acc)\n",
    "    pr_list.append(pr)\n",
    "    re_list.append(re)\n",
    "    f1_s_list.append(f1_s)\n",
    "    print(\"\\n\")\n",
    "\n",
    "    # Support Vector Classifier\n",
    "    # Kernel RBF\n",
    "    print(\".................Support Vector Classifier - Kernel RBF......................\")\n",
    "    svc_clf = SVC(gamma='auto', kernel='rbf')\n",
    "    acc, pr, re, f1_s  = scores(svc_clf, X, Y)\n",
    "    acc_list.append(acc)\n",
    "    pr_list.append(pr)\n",
    "    re_list.append(re)\n",
    "    f1_s_list.append(f1_s)\n",
    "    print(\"\\n\")\n",
    "\n",
    "    # Support Vector Classifier\n",
    "    # Kernel Linear\n",
    "    print(\"...............Support Vector Classifier - Kernel Linear.....................\")\n",
    "    svc_clf = SVC(gamma='auto', kernel='linear')\n",
    "    acc, pr, re, f1_s  = scores(svc_clf, X, Y)\n",
    "    acc_list.append(acc)\n",
    "    pr_list.append(pr)\n",
    "    re_list.append(re)\n",
    "    f1_s_list.append(f1_s)\n",
    "    print(\"\\n\")\n",
    "\n",
    "    # Gausian Naive Baised\n",
    "    print(\".....................Gausian Naive Biased....................................\")\n",
    "    nb_reg = GaussianNB()\n",
    "    acc, pr, re, f1_s  = scores(nb_reg, X, Y)\n",
    "    acc_list.append(acc)\n",
    "    pr_list.append(pr)\n",
    "    re_list.append(re)\n",
    "    f1_s_list.append(f1_s)\n",
    "    print(\"\\n\")\n",
    "    \n",
    "    return acc_list, pr_list, re_list, f1_s_list"
   ]
  },
  {
   "cell_type": "markdown",
   "metadata": {},
   "source": [
    "## Checking the Validations with only Numerical Attributes\n"
   ]
  },
  {
   "cell_type": "code",
   "execution_count": 48,
   "metadata": {},
   "outputs": [
    {
     "name": "stdout",
     "output_type": "stream",
     "text": [
      "................................SGD Classifier.................................\n",
      "Accuracy  :  73.07 %\n",
      "Precision :  0.71 \n",
      "Recall    :  0.72 \n",
      "F1_Score  :  0.66 \n",
      "Feature Classes: ['IPSI', 'Contra']\n",
      "Label Classes  : ['NoRisk' 'Risk']\n",
      "Confusion Matrix  :  \n",
      "[[403 356]\n",
      " [ 32 354]] \n"
     ]
    },
    {
     "data": {
      "image/png": "[encoded data removed]",
      "text/plain": [
       "<Figure size 72x72 with 1 Axes>"
      ]
     },
     "metadata": {
      "needs_background": "light"
     },
     "output_type": "display_data"
    },
    {
     "name": "stdout",
     "output_type": "stream",
     "text": [
      "\n",
      "\n",
      "...........................Random Forest Classifier............................\n",
      "Accuracy  :  90.66 %\n",
      "Precision :  0.89 \n",
      "Recall    :  0.90 \n",
      "F1_Score  :  0.90 \n",
      "Feature Classes: ['IPSI', 'Contra']\n",
      "Label Classes  : ['NoRisk' 'Risk']\n",
      "Confusion Matrix  :  \n",
      "[[701  58]\n",
      " [ 48 338]] \n"
     ]
    },
    {
     "data": {
      "image/png": "[encoded data removed]",
      "text/plain": [
       "<Figure size 72x72 with 1 Axes>"
      ]
     },
     "metadata": {
      "needs_background": "light"
     },
     "output_type": "display_data"
    },
    {
     "name": "stdout",
     "output_type": "stream",
     "text": [
      "\n",
      "\n",
      ".................Support Vector Classifier - Kernel RBF......................\n",
      "Accuracy  :  89.26 %\n",
      "Precision :  0.89 \n",
      "Recall    :  0.89 \n",
      "F1_Score  :  0.89 \n",
      "Feature Classes: ['IPSI', 'Contra']\n",
      "Label Classes  : ['NoRisk' 'Risk']\n",
      "Confusion Matrix  :  \n",
      "[[706  53]\n",
      " [ 55 331]] \n"
     ]
    },
    {
     "data": {
      "image/png": "[encoded data removed]",
      "text/plain": [
       "<Figure size 72x72 with 1 Axes>"
      ]
     },
     "metadata": {
      "needs_background": "light"
     },
     "output_type": "display_data"
    },
    {
     "name": "stdout",
     "output_type": "stream",
     "text": [
      "\n",
      "\n",
      "...............Support Vector Classifier - Kernel Linear.....................\n",
      "Accuracy  :  86.29 %\n",
      "Precision :  0.85 \n",
      "Recall    :  0.84 \n",
      "F1_Score  :  0.84 \n",
      "Feature Classes: ['IPSI', 'Contra']\n",
      "Label Classes  : ['NoRisk' 'Risk']\n",
      "Confusion Matrix  :  \n",
      "[[691  68]\n",
      " [ 91 295]] \n"
     ]
    },
    {
     "data": {
      "image/png": "[encoded data removed]",
      "text/plain": [
       "<Figure size 72x72 with 1 Axes>"
      ]
     },
     "metadata": {
      "needs_background": "light"
     },
     "output_type": "display_data"
    },
    {
     "name": "stdout",
     "output_type": "stream",
     "text": [
      "\n",
      "\n",
      ".....................Gausian Naive Biased....................................\n",
      "Accuracy  :  85.85 %\n",
      "Precision :  0.84 \n",
      "Recall    :  0.84 \n",
      "F1_Score  :  0.84 \n",
      "Feature Classes: ['IPSI', 'Contra']\n",
      "Label Classes  : ['NoRisk' 'Risk']\n",
      "Confusion Matrix  :  \n",
      "[[679  80]\n",
      " [ 83 303]] \n"
     ]
    },
    {
     "data": {
      "image/png": "[encoded data removed]",
      "text/plain": [
       "<Figure size 72x72 with 1 Axes>"
      ]
     },
     "metadata": {
      "needs_background": "light"
     },
     "output_type": "display_data"
    },
    {
     "name": "stdout",
     "output_type": "stream",
     "text": [
      "\n",
      "\n"
     ]
    }
   ],
   "source": [
    "acc_list, pr_list, re_list, f1_s_list = run_classifiers(res, labels)"
   ]
  },
  {
   "cell_type": "markdown",
   "metadata": {},
   "source": [
    "## Checking the Validations with Numerical Features and Diabetes Categorical Features"
   ]
  },
  {
   "cell_type": "code",
   "execution_count": 49,
   "metadata": {},
   "outputs": [
    {
     "name": "stdout",
     "output_type": "stream",
     "text": [
      "................................SGD Classifier.................................\n",
      "Accuracy  :  74.62 %\n",
      "Precision :  0.74 \n",
      "Recall    :  0.69 \n",
      "F1_Score  :  0.70 \n",
      "Feature Classes: ['IPSI', 'Contra', 'Diabetes']\n",
      "Label Classes  : ['NoRisk' 'Risk']\n",
      "Confusion Matrix  :  \n",
      "[[508  58]\n",
      " [149 136]] \n"
     ]
    },
    {
     "data": {
      "image/png": "[encoded data removed]",
      "text/plain": [
       "<Figure size 72x72 with 1 Axes>"
      ]
     },
     "metadata": {
      "needs_background": "light"
     },
     "output_type": "display_data"
    },
    {
     "name": "stdout",
     "output_type": "stream",
     "text": [
      "\n",
      "\n",
      "...........................Random Forest Classifier............................\n",
      "Accuracy  :  88.37 %\n",
      "Precision :  0.87 \n",
      "Recall    :  0.87 \n",
      "F1_Score  :  0.87 \n",
      "Feature Classes: ['IPSI', 'Contra', 'Diabetes']\n",
      "Label Classes  : ['NoRisk' 'Risk']\n",
      "Confusion Matrix  :  \n",
      "[[516  50]\n",
      " [ 51 234]] \n"
     ]
    },
    {
     "data": {
      "image/png": "[encoded data removed]",
      "text/plain": [
       "<Figure size 72x72 with 1 Axes>"
      ]
     },
     "metadata": {
      "needs_background": "light"
     },
     "output_type": "display_data"
    },
    {
     "name": "stdout",
     "output_type": "stream",
     "text": [
      "\n",
      "\n",
      ".................Support Vector Classifier - Kernel RBF......................\n",
      "Accuracy  :  89.31 %\n",
      "Precision :  0.89 \n",
      "Recall    :  0.87 \n",
      "F1_Score  :  0.88 \n",
      "Feature Classes: ['IPSI', 'Contra', 'Diabetes']\n",
      "Label Classes  : ['NoRisk' 'Risk']\n",
      "Confusion Matrix  :  \n",
      "[[531  35]\n",
      " [ 55 230]] \n"
     ]
    },
    {
     "data": {
      "image/png": "[encoded data removed]",
      "text/plain": [
       "<Figure size 72x72 with 1 Axes>"
      ]
     },
     "metadata": {
      "needs_background": "light"
     },
     "output_type": "display_data"
    },
    {
     "name": "stdout",
     "output_type": "stream",
     "text": [
      "\n",
      "\n",
      "...............Support Vector Classifier - Kernel Linear.....................\n",
      "Accuracy  :  86.49 %\n",
      "Precision :  0.85 \n",
      "Recall    :  0.84 \n",
      "F1_Score  :  0.84 \n",
      "Feature Classes: ['IPSI', 'Contra', 'Diabetes']\n",
      "Label Classes  : ['NoRisk' 'Risk']\n",
      "Confusion Matrix  :  \n",
      "[[512  54]\n",
      " [ 63 222]] \n"
     ]
    },
    {
     "data": {
      "image/png": "[encoded data removed]",
      "text/plain": [
       "<Figure size 72x72 with 1 Axes>"
      ]
     },
     "metadata": {
      "needs_background": "light"
     },
     "output_type": "display_data"
    },
    {
     "name": "stdout",
     "output_type": "stream",
     "text": [
      "\n",
      "\n",
      ".....................Gausian Naive Biased....................................\n",
      "Accuracy  :  86.25 %\n",
      "Precision :  0.85 \n",
      "Recall    :  0.84 \n",
      "F1_Score  :  0.85 \n",
      "Feature Classes: ['IPSI', 'Contra', 'Diabetes']\n",
      "Label Classes  : ['NoRisk' 'Risk']\n",
      "Confusion Matrix  :  \n",
      "[[510  56]\n",
      " [ 61 224]] \n"
     ]
    },
    {
     "data": {
      "image/png": "[encoded data removed]",
      "text/plain": [
       "<Figure size 72x72 with 1 Axes>"
      ]
     },
     "metadata": {
      "needs_background": "light"
     },
     "output_type": "display_data"
    },
    {
     "name": "stdout",
     "output_type": "stream",
     "text": [
      "\n",
      "\n"
     ]
    }
   ],
   "source": [
    "# Check those with diabetes\n",
    "ress = pd.concat([res, Diabetes_df, labels], axis=1)\n",
    "ress = ress.dropna()\n",
    "labelss = ress[\"label\"]\n",
    "ress = ress.drop([\"label\"], axis=1)\n",
    "acc_list_diabetes, pr_list_diabetes, re_list_diabetes, f1_s_list_diabetes = run_classifiers(ress, labelss)"
   ]
  },
  {
   "cell_type": "markdown",
   "metadata": {},
   "source": [
    "## Checking the Validations with Numerical Features and  Indication Features"
   ]
  },
  {
   "cell_type": "code",
   "execution_count": 50,
   "metadata": {},
   "outputs": [
    {
     "name": "stdout",
     "output_type": "stream",
     "text": [
      "................................SGD Classifier.................................\n",
      "Accuracy  :  68.75 %\n",
      "Precision :  0.72 \n",
      "Recall    :  0.70 \n",
      "F1_Score  :  0.70 \n",
      "Feature Classes: ['IPSI', 'Contra', 'A-F', 'ASx', 'CVA', 'TIA']\n",
      "Label Classes  : ['NoRisk' 'Risk']\n",
      "Confusion Matrix  :  \n",
      "[[481  85]\n",
      " [131 154]] \n"
     ]
    },
    {
     "data": {
      "image/png": "[encoded data removed]",
      "text/plain": [
       "<Figure size 72x72 with 1 Axes>"
      ]
     },
     "metadata": {
      "needs_background": "light"
     },
     "output_type": "display_data"
    },
    {
     "name": "stdout",
     "output_type": "stream",
     "text": [
      "\n",
      "\n",
      "...........................Random Forest Classifier............................\n",
      "Accuracy  :  85.43 %\n",
      "Precision :  0.86 \n",
      "Recall    :  0.83 \n",
      "F1_Score  :  0.84 \n",
      "Feature Classes: ['IPSI', 'Contra', 'A-F', 'ASx', 'CVA', 'TIA']\n",
      "Label Classes  : ['NoRisk' 'Risk']\n",
      "Confusion Matrix  :  \n",
      "[[527  39]\n",
      " [ 76 209]] \n"
     ]
    },
    {
     "data": {
      "image/png": "[encoded data removed]",
      "text/plain": [
       "<Figure size 72x72 with 1 Axes>"
      ]
     },
     "metadata": {
      "needs_background": "light"
     },
     "output_type": "display_data"
    },
    {
     "name": "stdout",
     "output_type": "stream",
     "text": [
      "\n",
      "\n",
      ".................Support Vector Classifier - Kernel RBF......................\n",
      "Accuracy  :  89.43 %\n",
      "Precision :  0.88 \n",
      "Recall    :  0.85 \n",
      "F1_Score  :  0.86 \n",
      "Feature Classes: ['IPSI', 'Contra', 'A-F', 'ASx', 'CVA', 'TIA']\n",
      "Label Classes  : ['NoRisk' 'Risk']\n",
      "Confusion Matrix  :  \n",
      "[[531  35]\n",
      " [ 66 219]] \n"
     ]
    },
    {
     "data": {
      "image/png": "[encoded data removed]",
      "text/plain": [
       "<Figure size 72x72 with 1 Axes>"
      ]
     },
     "metadata": {
      "needs_background": "light"
     },
     "output_type": "display_data"
    },
    {
     "name": "stdout",
     "output_type": "stream",
     "text": [
      "\n",
      "\n",
      "...............Support Vector Classifier - Kernel Linear.....................\n",
      "Accuracy  :  85.90 %\n",
      "Precision :  0.85 \n",
      "Recall    :  0.84 \n",
      "F1_Score  :  0.84 \n",
      "Feature Classes: ['IPSI', 'Contra', 'A-F', 'ASx', 'CVA', 'TIA']\n",
      "Label Classes  : ['NoRisk' 'Risk']\n",
      "Confusion Matrix  :  \n",
      "[[515  51]\n",
      " [ 66 219]] \n"
     ]
    },
    {
     "data": {
      "image/png": "[encoded data removed]",
      "text/plain": [
       "<Figure size 72x72 with 1 Axes>"
      ]
     },
     "metadata": {
      "needs_background": "light"
     },
     "output_type": "display_data"
    },
    {
     "name": "stdout",
     "output_type": "stream",
     "text": [
      "\n",
      "\n",
      ".....................Gausian Naive Biased....................................\n",
      "Accuracy  :  86.14 %\n",
      "Precision :  0.85 \n",
      "Recall    :  0.85 \n",
      "F1_Score  :  0.85 \n",
      "Feature Classes: ['IPSI', 'Contra', 'A-F', 'ASx', 'CVA', 'TIA']\n",
      "Label Classes  : ['NoRisk' 'Risk']\n",
      "Confusion Matrix  :  \n",
      "[[510  56]\n",
      " [ 60 225]] \n"
     ]
    },
    {
     "data": {
      "image/png": "[encoded data removed]",
      "text/plain": [
       "<Figure size 72x72 with 1 Axes>"
      ]
     },
     "metadata": {
      "needs_background": "light"
     },
     "output_type": "display_data"
    },
    {
     "name": "stdout",
     "output_type": "stream",
     "text": [
      "\n",
      "\n"
     ]
    }
   ],
   "source": [
    "Checking# Check those with Indication\n",
    "ress = pd.concat([res, Indication_df, labels], axis=1)\n",
    "ress = ress.dropna()\n",
    "labelss = ress[\"label\"]\n",
    "ress = ress.drop([\"label\"], axis=1)\n",
    "acc_list_Indication, pr_list_Indication, re_list_Indication, f1_s_list_Indication = run_classifiers(ress, labelss)"
   ]
  },
  {
   "cell_type": "markdown",
   "metadata": {},
   "source": [
    "## Checking the Validations with Numerical Features and IHD Categorical Features"
   ]
  },
  {
   "cell_type": "code",
   "execution_count": 51,
   "metadata": {},
   "outputs": [
    {
     "name": "stdout",
     "output_type": "stream",
     "text": [
      "................................SGD Classifier.................................\n",
      "Accuracy  :  76.75 %\n",
      "Precision :  0.74 \n",
      "Recall    :  0.67 \n",
      "F1_Score  :  0.68 \n",
      "Feature Classes: ['IPSI', 'Contra', 'IHD']\n",
      "Label Classes  : ['NoRisk' 'Risk']\n",
      "Confusion Matrix  :  \n",
      "[[521  45]\n",
      " [164 121]] \n"
     ]
    },
    {
     "data": {
      "image/png": "[encoded data removed]",
      "text/plain": [
       "<Figure size 72x72 with 1 Axes>"
      ]
     },
     "metadata": {
      "needs_background": "light"
     },
     "output_type": "display_data"
    },
    {
     "name": "stdout",
     "output_type": "stream",
     "text": [
      "\n",
      "\n",
      "...........................Random Forest Classifier............................\n",
      "Accuracy  :  87.07 %\n",
      "Precision :  0.85 \n",
      "Recall    :  0.84 \n",
      "F1_Score  :  0.84 \n",
      "Feature Classes: ['IPSI', 'Contra', 'IHD']\n",
      "Label Classes  : ['NoRisk' 'Risk']\n",
      "Confusion Matrix  :  \n",
      "[[509  57]\n",
      " [ 61 224]] \n"
     ]
    },
    {
     "data": {
      "image/png": "[encoded data removed]",
      "text/plain": [
       "<Figure size 72x72 with 1 Axes>"
      ]
     },
     "metadata": {
      "needs_background": "light"
     },
     "output_type": "display_data"
    },
    {
     "name": "stdout",
     "output_type": "stream",
     "text": [
      "\n",
      "\n",
      ".................Support Vector Classifier - Kernel RBF......................\n",
      "Accuracy  :  88.72 %\n",
      "Precision :  0.88 \n",
      "Recall    :  0.87 \n",
      "F1_Score  :  0.87 \n",
      "Feature Classes: ['IPSI', 'Contra', 'IHD']\n",
      "Label Classes  : ['NoRisk' 'Risk']\n",
      "Confusion Matrix  :  \n",
      "[[530  36]\n",
      " [ 58 227]] \n"
     ]
    },
    {
     "data": {
      "image/png": "[encoded data removed]",
      "text/plain": [
       "<Figure size 72x72 with 1 Axes>"
      ]
     },
     "metadata": {
      "needs_background": "light"
     },
     "output_type": "display_data"
    },
    {
     "name": "stdout",
     "output_type": "stream",
     "text": [
      "\n",
      "\n",
      "...............Support Vector Classifier - Kernel Linear.....................\n",
      "Accuracy  :  86.14 %\n",
      "Precision :  0.84 \n",
      "Recall    :  0.83 \n",
      "F1_Score  :  0.84 \n",
      "Feature Classes: ['IPSI', 'Contra', 'IHD']\n",
      "Label Classes  : ['NoRisk' 'Risk']\n",
      "Confusion Matrix  :  \n",
      "[[508  58]\n",
      " [ 66 219]] \n"
     ]
    },
    {
     "data": {
      "image/png": "[encoded data removed]",
      "text/plain": [
       "<Figure size 72x72 with 1 Axes>"
      ]
     },
     "metadata": {
      "needs_background": "light"
     },
     "output_type": "display_data"
    },
    {
     "name": "stdout",
     "output_type": "stream",
     "text": [
      "\n",
      "\n",
      ".....................Gausian Naive Biased....................................\n",
      "Accuracy  :  86.37 %\n",
      "Precision :  0.85 \n",
      "Recall    :  0.84 \n",
      "F1_Score  :  0.84 \n",
      "Feature Classes: ['IPSI', 'Contra', 'IHD']\n",
      "Label Classes  : ['NoRisk' 'Risk']\n",
      "Confusion Matrix  :  \n",
      "[[511  55]\n",
      " [ 62 223]] \n"
     ]
    },
    {
     "data": {
      "image/png": "[encoded data removed]",
      "text/plain": [
       "<Figure size 72x72 with 1 Axes>"
      ]
     },
     "metadata": {
      "needs_background": "light"
     },
     "output_type": "display_data"
    },
    {
     "name": "stdout",
     "output_type": "stream",
     "text": [
      "\n",
      "\n"
     ]
    }
   ],
   "source": [
    "# Check those with IHD\n",
    "ress = pd.concat([res, IHD_df, labels], axis=1)\n",
    "ress = ress.dropna()\n",
    "labelss = ress[\"label\"]\n",
    "ress = ress.drop([\"label\"], axis=1)\n",
    "acc_list2, pr_list2, re_list2, f1_s_list2 = run_classifiers(ress, labelss)"
   ]
  },
  {
   "cell_type": "markdown",
   "metadata": {},
   "source": [
    "## Checking the Validations with Numerical Features and Hypertension Features"
   ]
  },
  {
   "cell_type": "code",
   "execution_count": 52,
   "metadata": {},
   "outputs": [
    {
     "name": "stdout",
     "output_type": "stream",
     "text": [
      "................................SGD Classifier.................................\n",
      "Accuracy  :  66.41 %\n",
      "Precision :  0.71 \n",
      "Recall    :  0.73 \n",
      "F1_Score  :  0.70 \n",
      "Feature Classes: ['IPSI', 'Contra', 'Hypertension']\n",
      "Label Classes  : ['NoRisk' 'Risk']\n",
      "Confusion Matrix  :  \n",
      "[[377 189]\n",
      " [ 57 228]] \n"
     ]
    },
    {
     "data": {
      "image/png": "[encoded data removed]",
      "text/plain": [
       "<Figure size 72x72 with 1 Axes>"
      ]
     },
     "metadata": {
      "needs_background": "light"
     },
     "output_type": "display_data"
    },
    {
     "name": "stdout",
     "output_type": "stream",
     "text": [
      "\n",
      "\n",
      "...........................Random Forest Classifier............................\n",
      "Accuracy  :  84.96 %\n",
      "Precision :  0.85 \n",
      "Recall    :  0.84 \n",
      "F1_Score  :  0.85 \n",
      "Feature Classes: ['IPSI', 'Contra', 'Hypertension']\n",
      "Label Classes  : ['NoRisk' 'Risk']\n",
      "Confusion Matrix  :  \n",
      "[[514  52]\n",
      " [ 63 222]] \n"
     ]
    },
    {
     "data": {
      "image/png": "[encoded data removed]",
      "text/plain": [
       "<Figure size 72x72 with 1 Axes>"
      ]
     },
     "metadata": {
      "needs_background": "light"
     },
     "output_type": "display_data"
    },
    {
     "name": "stdout",
     "output_type": "stream",
     "text": [
      "\n",
      "\n",
      ".................Support Vector Classifier - Kernel RBF......................\n",
      "Accuracy  :  89.31 %\n",
      "Precision :  0.88 \n",
      "Recall    :  0.86 \n",
      "F1_Score  :  0.87 \n",
      "Feature Classes: ['IPSI', 'Contra', 'Hypertension']\n",
      "Label Classes  : ['NoRisk' 'Risk']\n",
      "Confusion Matrix  :  \n",
      "[[533  33]\n",
      " [ 64 221]] \n"
     ]
    },
    {
     "data": {
      "image/png": "[encoded data removed]",
      "text/plain": [
       "<Figure size 72x72 with 1 Axes>"
      ]
     },
     "metadata": {
      "needs_background": "light"
     },
     "output_type": "display_data"
    },
    {
     "name": "stdout",
     "output_type": "stream",
     "text": [
      "\n",
      "\n",
      "...............Support Vector Classifier - Kernel Linear.....................\n",
      "Accuracy  :  85.90 %\n",
      "Precision :  0.84 \n",
      "Recall    :  0.83 \n",
      "F1_Score  :  0.84 \n",
      "Feature Classes: ['IPSI', 'Contra', 'Hypertension']\n",
      "Label Classes  : ['NoRisk' 'Risk']\n",
      "Confusion Matrix  :  \n",
      "[[512  54]\n",
      " [ 68 217]] \n"
     ]
    },
    {
     "data": {
      "image/png": "[encoded data removed]",
      "text/plain": [
       "<Figure size 72x72 with 1 Axes>"
      ]
     },
     "metadata": {
      "needs_background": "light"
     },
     "output_type": "display_data"
    },
    {
     "name": "stdout",
     "output_type": "stream",
     "text": [
      "\n",
      "\n",
      ".....................Gausian Naive Biased....................................\n",
      "Accuracy  :  86.02 %\n",
      "Precision :  0.85 \n",
      "Recall    :  0.84 \n",
      "F1_Score  :  0.85 \n",
      "Feature Classes: ['IPSI', 'Contra', 'Hypertension']\n",
      "Label Classes  : ['NoRisk' 'Risk']\n",
      "Confusion Matrix  :  \n",
      "[[509  57]\n",
      " [ 60 225]] \n"
     ]
    },
    {
     "data": {
      "image/png": "[encoded data removed]",
      "text/plain": [
       "<Figure size 72x72 with 1 Axes>"
      ]
     },
     "metadata": {
      "needs_background": "light"
     },
     "output_type": "display_data"
    },
    {
     "name": "stdout",
     "output_type": "stream",
     "text": [
      "\n",
      "\n"
     ]
    }
   ],
   "source": [
    "# Check those with Hypertension\n",
    "ress = pd.concat([res, Hypertension_df, labels], axis=1)\n",
    "ress = ress.dropna()\n",
    "labelss = ress[\"label\"]\n",
    "ress = ress.drop([\"label\"], axis=1)\n",
    "acc_list_Hypertension, pr_list_Hypertension, re_list_Hypertension, f1_s_list_Hypertension = run_classifiers(ress, labelss)"
   ]
  },
  {
   "cell_type": "markdown",
   "metadata": {},
   "source": [
    "## Checking the Validations with Numerical Features and  Arrhythmia Features"
   ]
  },
  {
   "cell_type": "code",
   "execution_count": 53,
   "metadata": {},
   "outputs": [
    {
     "name": "stdout",
     "output_type": "stream",
     "text": [
      "................................SGD Classifier.................................\n",
      "Accuracy  :  72.04 %\n",
      "Precision :  0.76 \n",
      "Recall    :  0.70 \n",
      "F1_Score  :  0.72 \n",
      "Feature Classes: ['IPSI', 'Contra', 'Arrhythmia']\n",
      "Label Classes  : ['NoRisk' 'Risk']\n",
      "Confusion Matrix  :  \n",
      "[[514  52]\n",
      " [142 143]] \n"
     ]
    },
    {
     "data": {
      "image/png": "[encoded data removed]",
      "text/plain": [
       "<Figure size 72x72 with 1 Axes>"
      ]
     },
     "metadata": {
      "needs_background": "light"
     },
     "output_type": "display_data"
    },
    {
     "name": "stdout",
     "output_type": "stream",
     "text": [
      "\n",
      "\n",
      "...........................Random Forest Classifier............................\n",
      "Accuracy  :  87.19 %\n",
      "Precision :  0.86 \n",
      "Recall    :  0.85 \n",
      "F1_Score  :  0.85 \n",
      "Feature Classes: ['IPSI', 'Contra', 'Arrhythmia']\n",
      "Label Classes  : ['NoRisk' 'Risk']\n",
      "Confusion Matrix  :  \n",
      "[[512  54]\n",
      " [ 56 229]] \n"
     ]
    },
    {
     "data": {
      "image/png": "[encoded data removed]",
      "text/plain": [
       "<Figure size 72x72 with 1 Axes>"
      ]
     },
     "metadata": {
      "needs_background": "light"
     },
     "output_type": "display_data"
    },
    {
     "name": "stdout",
     "output_type": "stream",
     "text": [
      "\n",
      "\n",
      ".................Support Vector Classifier - Kernel RBF......................\n",
      "Accuracy  :  89.31 %\n",
      "Precision :  0.89 \n",
      "Recall    :  0.87 \n",
      "F1_Score  :  0.88 \n",
      "Feature Classes: ['IPSI', 'Contra', 'Arrhythmia']\n",
      "Label Classes  : ['NoRisk' 'Risk']\n",
      "Confusion Matrix  :  \n",
      "[[537  29]\n",
      " [ 62 223]] \n"
     ]
    },
    {
     "data": {
      "image/png": "[encoded data removed]",
      "text/plain": [
       "<Figure size 72x72 with 1 Axes>"
      ]
     },
     "metadata": {
      "needs_background": "light"
     },
     "output_type": "display_data"
    },
    {
     "name": "stdout",
     "output_type": "stream",
     "text": [
      "\n",
      "\n",
      "...............Support Vector Classifier - Kernel Linear.....................\n",
      "Accuracy  :  86.02 %\n",
      "Precision :  0.84 \n",
      "Recall    :  0.83 \n",
      "F1_Score  :  0.83 \n",
      "Feature Classes: ['IPSI', 'Contra', 'Arrhythmia']\n",
      "Label Classes  : ['NoRisk' 'Risk']\n",
      "Confusion Matrix  :  \n",
      "[[512  54]\n",
      " [ 71 214]] \n"
     ]
    },
    {
     "data": {
      "image/png": "[encoded data removed]",
      "text/plain": [
       "<Figure size 72x72 with 1 Axes>"
      ]
     },
     "metadata": {
      "needs_background": "light"
     },
     "output_type": "display_data"
    },
    {
     "name": "stdout",
     "output_type": "stream",
     "text": [
      "\n",
      "\n",
      ".....................Gausian Naive Biased....................................\n",
      "Accuracy  :  86.14 %\n",
      "Precision :  0.85 \n",
      "Recall    :  0.84 \n",
      "F1_Score  :  0.84 \n",
      "Feature Classes: ['IPSI', 'Contra', 'Arrhythmia']\n",
      "Label Classes  : ['NoRisk' 'Risk']\n",
      "Confusion Matrix  :  \n",
      "[[509  57]\n",
      " [ 61 224]] \n"
     ]
    },
    {
     "data": {
      "image/png": "[encoded data removed]",
      "text/plain": [
       "<Figure size 72x72 with 1 Axes>"
      ]
     },
     "metadata": {
      "needs_background": "light"
     },
     "output_type": "display_data"
    },
    {
     "name": "stdout",
     "output_type": "stream",
     "text": [
      "\n",
      "\n"
     ]
    }
   ],
   "source": [
    "# Check those with Arrhythmia\n",
    "ress = pd.concat([res, Arrhythmia_df, labels], axis=1)\n",
    "ress = ress.dropna()\n",
    "labelss = ress[\"label\"]\n",
    "ress = ress.drop([\"label\"], axis=1)\n",
    "acc_list_Arrhythmia, pr_list_Arrhythmia, re_list_Arrhythmia, f1_s_list_Arrhythmia = run_classifiers(ress, labelss)"
   ]
  },
  {
   "cell_type": "markdown",
   "metadata": {},
   "source": [
    "## Checking the Validations with Numerical Features and  History Features"
   ]
  },
  {
   "cell_type": "code",
   "execution_count": 54,
   "metadata": {},
   "outputs": [
    {
     "name": "stdout",
     "output_type": "stream",
     "text": [
      "................................SGD Classifier.................................\n",
      "Accuracy  :  74.38 %\n",
      "Precision :  0.77 \n",
      "Recall    :  0.60 \n",
      "F1_Score  :  0.59 \n",
      "Feature Classes: ['IPSI', 'Contra', 'History']\n",
      "Label Classes  : ['NoRisk' 'Risk']\n",
      "Confusion Matrix  :  \n",
      "[[551  15]\n",
      " [219  66]] \n"
     ]
    },
    {
     "data": {
      "image/png": "[encoded data removed]",
      "text/plain": [
       "<Figure size 72x72 with 1 Axes>"
      ]
     },
     "metadata": {
      "needs_background": "light"
     },
     "output_type": "display_data"
    },
    {
     "name": "stdout",
     "output_type": "stream",
     "text": [
      "\n",
      "\n",
      "...........................Random Forest Classifier............................\n",
      "Accuracy  :  89.54 %\n",
      "Precision :  0.87 \n",
      "Recall    :  0.85 \n",
      "F1_Score  :  0.86 \n",
      "Feature Classes: ['IPSI', 'Contra', 'History']\n",
      "Label Classes  : ['NoRisk' 'Risk']\n",
      "Confusion Matrix  :  \n",
      "[[529  37]\n",
      " [ 65 220]] \n"
     ]
    },
    {
     "data": {
      "image/png": "[encoded data removed]",
      "text/plain": [
       "<Figure size 72x72 with 1 Axes>"
      ]
     },
     "metadata": {
      "needs_background": "light"
     },
     "output_type": "display_data"
    },
    {
     "name": "stdout",
     "output_type": "stream",
     "text": [
      "\n",
      "\n",
      ".................Support Vector Classifier - Kernel RBF......................\n",
      "Accuracy  :  89.43 %\n",
      "Precision :  0.88 \n",
      "Recall    :  0.87 \n",
      "F1_Score  :  0.88 \n",
      "Feature Classes: ['IPSI', 'Contra', 'History']\n",
      "Label Classes  : ['NoRisk' 'Risk']\n",
      "Confusion Matrix  :  \n",
      "[[530  36]\n",
      " [ 56 229]] \n"
     ]
    },
    {
     "data": {
      "image/png": "[encoded data removed]",
      "text/plain": [
       "<Figure size 72x72 with 1 Axes>"
      ]
     },
     "metadata": {
      "needs_background": "light"
     },
     "output_type": "display_data"
    },
    {
     "name": "stdout",
     "output_type": "stream",
     "text": [
      "\n",
      "\n",
      "...............Support Vector Classifier - Kernel Linear.....................\n",
      "Accuracy  :  86.61 %\n",
      "Precision :  0.85 \n",
      "Recall    :  0.84 \n",
      "F1_Score  :  0.85 \n",
      "Feature Classes: ['IPSI', 'Contra', 'History']\n",
      "Label Classes  : ['NoRisk' 'Risk']\n",
      "Confusion Matrix  :  \n",
      "[[513  53]\n",
      " [ 63 222]] \n"
     ]
    },
    {
     "data": {
      "image/png": "[encoded data removed]",
      "text/plain": [
       "<Figure size 72x72 with 1 Axes>"
      ]
     },
     "metadata": {
      "needs_background": "light"
     },
     "output_type": "display_data"
    },
    {
     "name": "stdout",
     "output_type": "stream",
     "text": [
      "\n",
      "\n",
      ".....................Gausian Naive Biased....................................\n",
      "Accuracy  :  86.37 %\n",
      "Precision :  0.85 \n",
      "Recall    :  0.84 \n",
      "F1_Score  :  0.85 \n",
      "Feature Classes: ['IPSI', 'Contra', 'History']\n",
      "Label Classes  : ['NoRisk' 'Risk']\n",
      "Confusion Matrix  :  \n",
      "[[518  48]\n",
      " [ 66 219]] \n"
     ]
    },
    {
     "data": {
      "image/png": "[encoded data removed]",
      "text/plain": [
       "<Figure size 72x72 with 1 Axes>"
      ]
     },
     "metadata": {
      "needs_background": "light"
     },
     "output_type": "display_data"
    },
    {
     "name": "stdout",
     "output_type": "stream",
     "text": [
      "\n",
      "\n"
     ]
    }
   ],
   "source": [
    "# Check those with History\n",
    "ress = pd.concat([res, History_df, labels], axis=1)\n",
    "ress = ress.dropna()\n",
    "labelss = ress[\"label\"]\n",
    "ress = ress.drop([\"label\"], axis=1)\n",
    "acc_list2, pr_list2, re_list2, f1_s_list2 = run_classifiers(ress, labelss)"
   ]
  },
  {
   "cell_type": "code",
   "execution_count": 55,
   "metadata": {},
   "outputs": [
    {
     "data": {
      "image/png": "[encoded data removed]",
      "text/plain": [
       "<Figure size 1440x1440 with 4 Axes>"
      ]
     },
     "metadata": {
      "needs_background": "light"
     },
     "output_type": "display_data"
    }
   ],
   "source": [
    "fig, ax = plt.subplots(2, 2, figsize=(20,20))\n",
    "ax[0, 0].plot(acc_list, label='Numerical Features')\n",
    "ax[0, 0].plot(acc_list_Arrhythmia, label='Arrhythmia Feature')\n",
    "ax[0, 0].plot(acc_list_diabetes, label='Diabetes Feature')\n",
    "ax[0, 0].plot(acc_list_Hypertension, label='Hypertension Feature')\n",
    "ax[0, 0].plot(acc_list_Indication, label='Indication Feature')\n",
    "ax[0, 0].set_xticklabels( ('', 'SGD', \" \",'RFC',\"\", 'SVC1', \"\", 'SVC2', \"\", 'NB') )\n",
    "ax[0, 0].set_ylim(65,100)\n",
    "ax[0, 0].legend()\n",
    "ax[0, 0].set_title(\"Accuracy Vs Model\")\n",
    "\n",
    "\n",
    "ax[0, 1].plot(pr_list, label='Numerical Features')\n",
    "ax[0, 1].plot(pr_list_Arrhythmia, label='Arrhythmia Feature')\n",
    "ax[0, 1].plot(pr_list_diabetes, label='Diabetes Feature')\n",
    "ax[0, 1].plot(pr_list_Hypertension, label='Hypertension Feature')\n",
    "ax[0, 1].plot(pr_list_Indication, label='Indication Feature')\n",
    "ax[0, 1].set_xticklabels( ('', 'SGD', \" \",'RFC',\"\", 'SVC1', \"\", 'SVC2', \"\", 'NB') )\n",
    "ax[0, 1].set_ylim(0.65,1)\n",
    "ax[0, 1].legend()\n",
    "ax[0, 1].set_title(\"Precision Vs Model \")\n",
    "# ax[0,1].set_ylim(60,100)\n",
    "\n",
    "\n",
    "ax[1, 0].plot(re_list, label='Numerical Features')\n",
    "ax[1, 0].plot(re_list_Arrhythmia, label='Arrhythmia Feature')\n",
    "ax[1, 0].plot(re_list_diabetes, label='Diabetes Feature')\n",
    "ax[1, 0].plot(re_list_Hypertension, label='Hypertension Feature')\n",
    "ax[1, 0].plot(re_list_Indication, label='Indication Feature')\n",
    "ax[1, 0].set_xticklabels( ('', 'SGD', \" \",'RFC',\"\", 'SVC1', \"\", 'SVC2', \"\", 'NB') )\n",
    "ax[1, 0].set_ylim(0.65,1)\n",
    "ax[1, 0].legend()\n",
    "ax[1, 0].set_title(\"Recall Vs Model\")\n",
    "\n",
    "ax[1, 1].plot(f1_s_list, label='Numerical Features')\n",
    "ax[1, 1].plot(f1_s_list_Arrhythmia, label='Arrhythmia Feature')\n",
    "ax[1, 1].plot(f1_s_list_diabetes, label='Diabetes Feature')\n",
    "ax[1, 1].plot(f1_s_list_Hypertension, label='Hypertension Feature')\n",
    "ax[1, 1].plot(f1_s_list_Indication, label='Indication Feature')\n",
    "ax[1, 1].set_xticklabels( ('', 'SGD', \" \",'RFC',\"\", 'SVC1', \"\", 'SVC2', \"\", 'NB') )\n",
    "ax[1, 1].set_ylim(0.65,1)\n",
    "ax[1, 1].legend()\n",
    "ax[1, 1].set_title(\"F1 Score Vs Model\")\n",
    "\n",
    "plt.show()"
   ]
  },
  {
   "cell_type": "markdown",
   "metadata": {},
   "source": [
    "## We can clearly see the numerical features with model scv1  have the most accurate one "
   ]
  },
  {
   "cell_type": "code",
   "execution_count": 56,
   "metadata": {},
   "outputs": [
    {
     "data": {
      "image/png": "[encoded data removed]",
      "text/plain": [
       "<Figure size 360x360 with 1 Axes>"
      ]
     },
     "metadata": {
      "needs_background": "light"
     },
     "output_type": "display_data"
    }
   ],
   "source": [
    "fig, ax = plt.subplots(figsize=(5,5))\n",
    "ax.plot(f1_s_list, label='Numerical Features')\n",
    "ax.plot(f1_s_list_Arrhythmia, label='Arrhythmia Feature')\n",
    "ax.plot(f1_s_list_diabetes, label='Diabetes Feature')\n",
    "ax.plot(f1_s_list_Hypertension, label='Hypertension Feature')\n",
    "ax.plot(f1_s_list_Indication, label='Indication Feature')\n",
    "ax.set_xticklabels( ('', 'SGD', \" \",'RFC',\"\", 'SVC1', \"\", 'SVC2', \"\", 'NB') )\n",
    "ax.set_ylim(0.65,1)\n",
    "ax.legend()\n",
    "ax.set_title(\"F1 Score Vs Model\")\n",
    "plt.show()"
   ]
  },
  {
   "cell_type": "markdown",
   "metadata": {},
   "source": [
    "### Testing \n",
    "\n",
    "results of best combination between numerical and categorical attributes  with the best perfmoring model "
   ]
  },
  {
   "cell_type": "code",
   "execution_count": 57,
   "metadata": {},
   "outputs": [
    {
     "data": {
      "text/plain": [
       "SVC(C=1.0, cache_size=200, class_weight=None, coef0=0.0,\n",
       "    decision_function_shape='ovr', degree=3, gamma='auto', kernel='rbf',\n",
       "    max_iter=-1, probability=False, random_state=None, shrinking=True,\n",
       "    tol=0.001, verbose=False)"
      ]
     },
     "execution_count": 57,
     "metadata": {},
     "output_type": "execute_result"
    }
   ],
   "source": [
    "svc_clf = SVC(gamma='auto', kernel='rbf')\n",
    "svc_clf.fit(med_num, labels)"
   ]
  },
  {
   "cell_type": "code",
   "execution_count": 58,
   "metadata": {},
   "outputs": [
    {
     "name": "stdout",
     "output_type": "stream",
     "text": [
      "Accuracy = 91.26%\n",
      "Precision = 0.89\n",
      "Recall = 0.87\n",
      "F1_Score = 0.88\n"
     ]
    }
   ],
   "source": [
    "predicted = svc_clf.predict(med_num_test)\n",
    "\n",
    "# get the accuracy\n",
    "print(\"Accuracy = {:.2f}%\".format(accuracy_score(labels_test, predicted)*100))\n",
    "\n",
    "print(\"Precision = {:.2f}\".format(precision_score(labels_test, predicted, average=\"binary\", pos_label='Risk')))\n",
    "print(\"Recall = {:.2f}\".format(recall_score(labels_test, predicted, average=\"binary\", pos_label='Risk')))\n",
    "print(\"F1_Score = {:.2f}\".format(f1_score(labels_test, predicted, average=\"binary\", pos_label='Risk')))"
   ]
  },
  {
   "cell_type": "code",
   "execution_count": null,
   "metadata": {},
   "outputs": [],
   "source": []
  }
 ],
 "metadata": {
  "kernelspec": {
   "display_name": "Python 3",
   "language": "python",
   "name": "python3"
  },
  "language_info": {
   "codemirror_mode": {
    "name": "ipython",
    "version": 3
   },
   "file_extension": ".py",
   "mimetype": "text/x-python",
   "name": "python",
   "nbconvert_exporter": "python",
   "pygments_lexer": "ipython3",
   "version": "3.6.1"
  }
 },
 "nbformat": 4,
 "nbformat_minor": 2
}
